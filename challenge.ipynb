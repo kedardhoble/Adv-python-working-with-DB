{
 "cells": [
  {
   "cell_type": "code",
   "execution_count": 3,
   "metadata": {},
   "outputs": [
    {
     "name": "stdout",
     "output_type": "stream",
     "text": [
      "[(1, 'kedar', 'dhoble', 'kedardhoble@gmail.com'), (2, 'keda', 'dhobl', 'kedadhobl@gmail.com'), (3, 'ked', 'dhob', 'keddhob@gmail.com'), (4, 'ke', 'dho', 'kedho@gmail.com'), (5, 'kedar', 'dhoble', 'kedardhoble@gmail.com'), (6, 'keda', 'dhobl', 'kedadhobl@gmail.com'), (7, 'ked', 'dhob', 'keddhob@gmail.com'), (8, 'ke', 'dho', 'kedho@gmail.com'), (9, 'kedar', 'dhoble', 'kedardhoble@gmail.com'), (10, 'keda', 'dhobl', 'kedadhobl@gmail.com'), (11, 'ked', 'dhob', 'keddhob@gmail.com'), (12, 'ke', 'dho', 'kedho@gmail.com')]\n"
     ]
    }
   ],
   "source": [
    "# SQLite3 module \n",
    "import sqlite3\n",
    "\n",
    "connection = sqlite3.connect('user.db')\n",
    "cursor = connection.cursor()\n",
    "\n",
    "cursor.execute('''CREATE TABLE IF NOT EXISTS Users\n",
    "    (user_id INTEGER PRIMARY KEY AUTOINCREMENT,\n",
    "        first_name TEXT, last_name TEXT, \n",
    "        email_address TEXT)''')\n",
    "users_to_insert = [('kedar', 'dhoble', 'kedardhoble@gmail.com'),\n",
    "                   ('keda', 'dhobl', 'kedadhobl@gmail.com'),\n",
    "                   ('ked', 'dhob', 'keddhob@gmail.com'),\n",
    "                   ('ke', 'dho', 'kedho@gmail.com')]\n",
    "\n",
    "cursor.executemany('''INSERT INTO Users(first_name, last_name, email_address) VALUES (?,?,?)''', users_to_insert)\n",
    "cursor.execute(\"SELECT * FROM Users\")\n",
    "\n",
    "print(cursor.fetchall())\n",
    "\n",
    "connection.commit()\n",
    "connection.close()"
   ]
  },
  {
   "cell_type": "code",
   "execution_count": 6,
   "metadata": {},
   "outputs": [
    {
     "name": "stdout",
     "output_type": "stream",
     "text": [
      "2023-07-05 11:40:33,202 INFO sqlalchemy.engine.Engine BEGIN (implicit)\n",
      "2023-07-05 11:40:33,204 INFO sqlalchemy.engine.Engine CREATE TABLE IF NOT EXISTS Users (user_id \n",
      "        INTEGER PRIMARY KEY AUTOINCREMENT, first_name TEXT, last_name TEXT, \n",
      "        email_address TEXT)\n",
      "2023-07-05 11:40:33,206 INFO sqlalchemy.engine.Engine [generated in 0.00502s] ()\n",
      "2023-07-05 11:40:33,208 INFO sqlalchemy.engine.Engine INSERT INTO Users(first_name, last_name, email_address) VALUES (?, ?, ?)\n",
      "2023-07-05 11:40:33,212 INFO sqlalchemy.engine.Engine [generated in 0.00371s] [('kedar', 'dhoble', 'kedardhoble@gmail.com'), ('keda', 'dhobl', 'kedadhobl@gmail.com'), ('ked', 'dhob', 'keddhob@gmail.com'), ('ke', 'dho', 'kedho@gmail.com')]\n",
      "2023-07-05 11:40:33,217 INFO sqlalchemy.engine.Engine SELECT * FROM Users\n",
      "2023-07-05 11:40:33,219 INFO sqlalchemy.engine.Engine [generated in 0.00191s] ()\n",
      "(1, 'kedar', 'dhoble', 'kedardhoble@gmail.com')\n",
      "(2, 'keda', 'dhobl', 'kedadhobl@gmail.com')\n",
      "(3, 'ked', 'dhob', 'keddhob@gmail.com')\n",
      "(4, 'ke', 'dho', 'kedho@gmail.com')\n",
      "(5, 'kedar', 'dhoble', 'kedardhoble@gmail.com')\n",
      "(6, 'keda', 'dhobl', 'kedadhobl@gmail.com')\n",
      "(7, 'ked', 'dhob', 'keddhob@gmail.com')\n",
      "(8, 'ke', 'dho', 'kedho@gmail.com')\n",
      "(9, 'kedar', 'dhoble', 'kedardhoble@gmail.com')\n",
      "(10, 'keda', 'dhobl', 'kedadhobl@gmail.com')\n",
      "(11, 'ked', 'dhob', 'keddhob@gmail.com')\n",
      "(12, 'ke', 'dho', 'kedho@gmail.com')\n",
      "(13, 'kedar', 'dhoble', 'kedardhoble@gmail.com')\n",
      "(14, 'keda', 'dhobl', 'kedadhobl@gmail.com')\n",
      "(15, 'ked', 'dhob', 'keddhob@gmail.com')\n",
      "(16, 'ke', 'dho', 'kedho@gmail.com')\n",
      "2023-07-05 11:40:33,221 INFO sqlalchemy.engine.Engine ROLLBACK\n"
     ]
    }
   ],
   "source": [
    "# SQLAlchemmy without the expression language \n",
    "import sqlalchemy\n",
    "\n",
    "engine = sqlalchemy.create_engine('sqlite:///user.db', echo=True)\n",
    "users_to_insert = [{'first_name': 'kedar', 'last_name': 'dhoble', 'email_address': 'kedardhoble@gmail.com'},\n",
    "                   {'first_name': 'keda', 'last_name': 'dhobl', 'email_address': 'kedadhobl@gmail.com'},\n",
    "                   {'first_name': 'ked', 'last_name': 'dhob', 'email_address': 'keddhob@gmail.com'},\n",
    "                   {'first_name': 'ke', 'last_name': 'dho', 'email_address': 'kedho@gmail.com'}]\n",
    "\n",
    "with engine.connect() as conn:\n",
    "    conn.execute(sqlalchemy.text('''CREATE TABLE IF NOT EXISTS Users (user_id \n",
    "        INTEGER PRIMARY KEY AUTOINCREMENT, first_name TEXT, last_name TEXT, \n",
    "        email_address TEXT)'''))\n",
    "    \n",
    "    conn.execute(sqlalchemy.text('''INSERT INTO Users(first_name, last_name, email_address) VALUES (:first_name, :last_name, :email_address)'''), users_to_insert)\n",
    "\n",
    "    result = conn.execute(sqlalchemy.text('''SELECT * FROM Users'''))\n",
    "    for row in result:\n",
    "        print(row)"
   ]
  },
  {
   "cell_type": "code",
   "execution_count": 7,
   "metadata": {},
   "outputs": [
    {
     "name": "stdout",
     "output_type": "stream",
     "text": [
      "2023-07-05 11:59:54,046 INFO sqlalchemy.engine.Engine BEGIN (implicit)\n",
      "2023-07-05 11:59:54,048 INFO sqlalchemy.engine.Engine PRAGMA main.table_info(\"users\")\n",
      "2023-07-05 11:59:54,049 INFO sqlalchemy.engine.Engine [raw sql] ()\n",
      "2023-07-05 11:59:54,051 INFO sqlalchemy.engine.Engine COMMIT\n",
      "2023-07-05 11:59:54,053 INFO sqlalchemy.engine.Engine BEGIN (implicit)\n",
      "2023-07-05 11:59:54,054 INFO sqlalchemy.engine.Engine INSERT INTO users (first_name, last_name, email_address) VALUES (?, ?, ?), (?, ?, ?), (?, ?, ?), (?, ?, ?)\n",
      "2023-07-05 11:59:54,055 INFO sqlalchemy.engine.Engine [no key 0.00216s] ('kedar', 'dhoble', 'kedardhoble@gmail.com', 'keda', 'dhobl', 'kedadhobl@gmail.com', 'ked', 'dhob', 'keddhob@gmail.com', 'ke', 'dho', 'kedho@gmail.com')\n",
      "2023-07-05 11:59:54,058 INFO sqlalchemy.engine.Engine SELECT users.user_id, users.first_name, users.last_name, users.email_address \n",
      "FROM users\n",
      "2023-07-05 11:59:54,059 INFO sqlalchemy.engine.Engine [generated in 0.00109s] ()\n",
      "(1, 'kedar', 'dhoble', 'kedardhoble@gmail.com')\n",
      "(2, 'keda', 'dhobl', 'kedadhobl@gmail.com')\n",
      "(3, 'ked', 'dhob', 'keddhob@gmail.com')\n",
      "(4, 'ke', 'dho', 'kedho@gmail.com')\n",
      "(5, 'kedar', 'dhoble', 'kedardhoble@gmail.com')\n",
      "(6, 'keda', 'dhobl', 'kedadhobl@gmail.com')\n",
      "(7, 'ked', 'dhob', 'keddhob@gmail.com')\n",
      "(8, 'ke', 'dho', 'kedho@gmail.com')\n",
      "(9, 'kedar', 'dhoble', 'kedardhoble@gmail.com')\n",
      "(10, 'keda', 'dhobl', 'kedadhobl@gmail.com')\n",
      "(11, 'ked', 'dhob', 'keddhob@gmail.com')\n",
      "(12, 'ke', 'dho', 'kedho@gmail.com')\n",
      "(13, 'kedar', 'dhoble', 'kedardhoble@gmail.com')\n",
      "(14, 'keda', 'dhobl', 'kedadhobl@gmail.com')\n",
      "(15, 'ked', 'dhob', 'keddhob@gmail.com')\n",
      "(16, 'ke', 'dho', 'kedho@gmail.com')\n",
      "2023-07-05 11:59:54,061 INFO sqlalchemy.engine.Engine ROLLBACK\n"
     ]
    }
   ],
   "source": [
    "# SQLAlchemmy with the expression language \n",
    "import sqlalchemy\n",
    "\n",
    "engine = sqlalchemy.create_engine('sqlite:///user.db', echo=True)\n",
    "users_to_insert = [{'first_name': 'kedar', 'last_name': 'dhoble', 'email_address': 'kedardhoble@gmail.com'},\n",
    "                   {'first_name': 'keda', 'last_name': 'dhobl', 'email_address': 'kedadhobl@gmail.com'},\n",
    "                   {'first_name': 'ked', 'last_name': 'dhob', 'email_address': 'keddhob@gmail.com'},\n",
    "                   {'first_name': 'ke', 'last_name': 'dho', 'email_address': 'kedho@gmail.com'}]\n",
    "\n",
    "metadata = sqlalchemy.MetaData()\n",
    "\n",
    "users_table = sqlalchemy.Table(\"users\",\n",
    "                               metadata,\n",
    "                               sqlalchemy.Column(\"user_id\", sqlalchemy.Integer, primary_key=True),\n",
    "                               sqlalchemy.Column(\"first_name\", sqlalchemy.Integer),\n",
    "                               sqlalchemy.Column(\"last_name\", sqlalchemy.Integer),\n",
    "                               sqlalchemy.Column(\"email_address\", sqlalchemy.Integer)\n",
    "                               )\n",
    "metadata.create_all(engine)\n",
    "\n",
    "with engine.connect() as conn:\n",
    "    conn.execute(sqlalchemy.insert(users_table).values(users_to_insert))\n",
    "    for row in conn.execute(sqlalchemy.select(users_table)):\n",
    "        print(row)\n"
   ]
  }
 ],
 "metadata": {
  "kernelspec": {
   "display_name": "Python 3",
   "language": "python",
   "name": "python3"
  },
  "language_info": {
   "codemirror_mode": {
    "name": "ipython",
    "version": 3
   },
   "file_extension": ".py",
   "mimetype": "text/x-python",
   "name": "python",
   "nbconvert_exporter": "python",
   "pygments_lexer": "ipython3",
   "version": "3.10.12"
  },
  "orig_nbformat": 4
 },
 "nbformat": 4,
 "nbformat_minor": 2
}
