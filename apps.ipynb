{
 "cells": [
  {
   "cell_type": "code",
   "execution_count": 2,
   "metadata": {},
   "outputs": [
    {
     "name": "stdout",
     "output_type": "stream",
     "text": [
      "[('Pulp Fiction', 'Quentin Tarentino', 1994), ('Taxi Driver', 'Martin Scorsese', 1976), ('Moonrise Kingdom', 'Wes Anderson', 2012), ('Pulp Fiction', 'Quentin Tarentino', 1994), ('Taxi Driver', 'Martin Scorsese', 1976), ('Moonrise Kingdom', 'Wes Anderson', 2012), ('Pulp Fiction', 'Quentin Tarentino', 1994), ('Taxi Driver', 'Martin Scorsese', 1976), ('Moonrise Kingdom', 'Wes Anderson', 2012), ('Pulp Fiction', 'Quentin Tarentino', 1994), ('Taxi Driver', 'Martin Scorsese', 1976), ('Moonrise Kingdom', 'Wes Anderson', 2012), ('Pulp Fiction', 'Quentin Tarentino', 1994), ('Taxi Driver', 'Martin Scorsese', 1976), ('Moonrise Kingdom', 'Wes Anderson', 2012), ('Pulp Fiction', 'Quentin Tarentino', 1994), ('Taxi Driver', 'Martin Scorsese', 1976), ('Moonrise Kingdom', 'Wes Anderson', 2012), ('Pulp Fiction', 'Quentin Tarentino', 1994), ('Taxi Driver', 'Martin Scorsese', 1976), ('Moonrise Kingdom', 'Wes Anderson', 2012)]\n"
     ]
    }
   ],
   "source": [
    "# Create DB using SQLite3\n",
    "import sqlite3\n",
    "\n",
    "connection = sqlite3.connect('movies.db')\n",
    "cursor = connection.cursor()\n",
    "\n",
    "famousFilms = [('Pulp Fiction', 'Quentin Tarentino', 1994), \n",
    "               ('Taxi Driver', 'Martin Scorsese', 1976),\n",
    "               ('Moonrise Kingdom', 'Wes Anderson', 2012)]\n",
    "\n",
    "cursor.executemany('INSERT INTO Movies VALUES (?,?,?)', famousFilms)\n",
    "\n",
    "cursor.execute(\"SELECT * FROM Movies\")\n",
    "\n",
    "print(cursor.fetchall())\n",
    "\n",
    "connection.commit()\n",
    "connection.close()"
   ]
  },
  {
   "cell_type": "code",
   "execution_count": 5,
   "metadata": {},
   "outputs": [
    {
     "name": "stdout",
     "output_type": "stream",
     "text": [
      "[('Taxi Driver', 'Martin Scorsese', 1976), ('Taxi Driver', 'Martin Scorsese', 1976), ('Taxi Driver', 'Martin Scorsese', 1976), ('Taxi Driver', 'Martin Scorsese', 1976), ('Taxi Driver', 'Martin Scorsese', 1976), ('Taxi Driver', 'Martin Scorsese', 1976), ('Taxi Driver', 'Martin Scorsese', 1976)]\n"
     ]
    }
   ],
   "source": [
    "# Filter out specific data using SQLite3\n",
    "import sqlite3\n",
    "\n",
    "connection = sqlite3.connect('movies.db')\n",
    "cursor = connection.cursor()\n",
    "\n",
    "release_year = (1976,)\n",
    "\n",
    "cursor.execute(\"SELECT * FROM Movies WHERE year=?\", release_year)\n",
    "print(cursor.fetchall())\n",
    "\n",
    "connection.commit()\n",
    "connection.close()"
   ]
  },
  {
   "cell_type": "code",
   "execution_count": 6,
   "metadata": {},
   "outputs": [],
   "source": [
    "# SQLAlchemy ORM - uses an object-centric view\n",
    "# SQLAlchemy core - has a schema-centric view"
   ]
  },
  {
   "cell_type": "code",
   "execution_count": 9,
   "metadata": {},
   "outputs": [
    {
     "name": "stdout",
     "output_type": "stream",
     "text": [
      "2023-07-04 15:47:10,933 INFO sqlalchemy.engine.Engine BEGIN (implicit)\n",
      "2023-07-04 15:47:10,934 INFO sqlalchemy.engine.Engine SELECT * FROM Movies\n",
      "2023-07-04 15:47:10,934 INFO sqlalchemy.engine.Engine [generated in 0.00192s] ()\n",
      "('Pulp Fiction', 'Quentin Tarentino', 1994)\n",
      "('Taxi Driver', 'Martin Scorsese', 1976)\n",
      "('Moonrise Kingdom', 'Wes Anderson', 2012)\n",
      "('Pulp Fiction', 'Quentin Tarentino', 1994)\n",
      "('Taxi Driver', 'Martin Scorsese', 1976)\n",
      "('Moonrise Kingdom', 'Wes Anderson', 2012)\n",
      "('Pulp Fiction', 'Quentin Tarentino', 1994)\n",
      "('Taxi Driver', 'Martin Scorsese', 1976)\n",
      "('Moonrise Kingdom', 'Wes Anderson', 2012)\n",
      "('Pulp Fiction', 'Quentin Tarentino', 1994)\n",
      "('Taxi Driver', 'Martin Scorsese', 1976)\n",
      "('Moonrise Kingdom', 'Wes Anderson', 2012)\n",
      "('Pulp Fiction', 'Quentin Tarentino', 1994)\n",
      "('Taxi Driver', 'Martin Scorsese', 1976)\n",
      "('Moonrise Kingdom', 'Wes Anderson', 2012)\n",
      "('Pulp Fiction', 'Quentin Tarentino', 1994)\n",
      "('Taxi Driver', 'Martin Scorsese', 1976)\n",
      "('Moonrise Kingdom', 'Wes Anderson', 2012)\n",
      "('Pulp Fiction', 'Quentin Tarentino', 1994)\n",
      "('Taxi Driver', 'Martin Scorsese', 1976)\n",
      "('Moonrise Kingdom', 'Wes Anderson', 2012)\n",
      "2023-07-04 15:47:10,940 INFO sqlalchemy.engine.Engine ROLLBACK\n"
     ]
    }
   ],
   "source": [
    "# Start with sqlalchemy\n",
    "import sqlalchemy\n",
    "\n",
    "engine = sqlalchemy.create_engine('sqlite:///movies.db', echo=True)\n",
    "\n",
    "with engine.connect() as conn:\n",
    "    result = conn.execute(sqlalchemy.text(\"SELECT * FROM Movies\"))\n",
    "    for row in result:\n",
    "        print(row)  "
   ]
  },
  {
   "cell_type": "code",
   "execution_count": 11,
   "metadata": {},
   "outputs": [
    {
     "name": "stdout",
     "output_type": "stream",
     "text": [
      "2023-07-04 16:09:26,888 INFO sqlalchemy.engine.Engine BEGIN (implicit)\n",
      "2023-07-04 16:09:26,889 INFO sqlalchemy.engine.Engine PRAGMA main.table_info(\"Movies\")\n",
      "2023-07-04 16:09:26,891 INFO sqlalchemy.engine.Engine [raw sql] ()\n",
      "2023-07-04 16:09:26,895 INFO sqlalchemy.engine.Engine COMMIT\n",
      "2023-07-04 16:09:26,898 INFO sqlalchemy.engine.Engine BEGIN (implicit)\n",
      "2023-07-04 16:09:26,900 INFO sqlalchemy.engine.Engine SELECT \"Movies\".title, \"Movies\".director, \"Movies\".year \n",
      "FROM \"Movies\"\n",
      "2023-07-04 16:09:26,901 INFO sqlalchemy.engine.Engine [generated in 0.00289s] ()\n",
      "('Pulp Fiction', 'Quentin Tarentino', 1994)\n",
      "('Taxi Driver', 'Martin Scorsese', 1976)\n",
      "('Moonrise Kingdom', 'Wes Anderson', 2012)\n",
      "('Pulp Fiction', 'Quentin Tarentino', 1994)\n",
      "('Taxi Driver', 'Martin Scorsese', 1976)\n",
      "('Moonrise Kingdom', 'Wes Anderson', 2012)\n",
      "('Pulp Fiction', 'Quentin Tarentino', 1994)\n",
      "('Taxi Driver', 'Martin Scorsese', 1976)\n",
      "('Moonrise Kingdom', 'Wes Anderson', 2012)\n",
      "('Pulp Fiction', 'Quentin Tarentino', 1994)\n",
      "('Taxi Driver', 'Martin Scorsese', 1976)\n",
      "('Moonrise Kingdom', 'Wes Anderson', 2012)\n",
      "('Pulp Fiction', 'Quentin Tarentino', 1994)\n",
      "('Taxi Driver', 'Martin Scorsese', 1976)\n",
      "('Moonrise Kingdom', 'Wes Anderson', 2012)\n",
      "('Pulp Fiction', 'Quentin Tarentino', 1994)\n",
      "('Taxi Driver', 'Martin Scorsese', 1976)\n",
      "('Moonrise Kingdom', 'Wes Anderson', 2012)\n",
      "('Pulp Fiction', 'Quentin Tarentino', 1994)\n",
      "('Taxi Driver', 'Martin Scorsese', 1976)\n",
      "('Moonrise Kingdom', 'Wes Anderson', 2012)\n",
      "2023-07-04 16:09:26,904 INFO sqlalchemy.engine.Engine ROLLBACK\n"
     ]
    }
   ],
   "source": [
    "# SQL Expression language \n",
    "\n",
    "import sqlalchemy\n",
    "\n",
    "engine = sqlalchemy.create_engine('sqlite:///movies.db', echo=True)\n",
    "\n",
    "metadata = sqlalchemy.MetaData()\n",
    "\n",
    "movies_table = sqlalchemy.Table(\"Movies\", metadata,\n",
    "    sqlalchemy.Column(\"title\", sqlalchemy.Text),\n",
    "    sqlalchemy.Column(\"director\", sqlalchemy.Text),\n",
    "    sqlalchemy.Column(\"year\", sqlalchemy.Integer))\n",
    "\n",
    "metadata.create_all(engine)\n",
    "\n",
    "with engine.connect() as conn:\n",
    "    for row in conn.execute(sqlalchemy.select(movies_table)):\n",
    "        print(row)"
   ]
  },
  {
   "cell_type": "code",
   "execution_count": null,
   "metadata": {},
   "outputs": [],
   "source": [
    "# SQLite and SQLAlchemy are two different tools used for working with databases, but they serve different purposes and operate at different levels of abstraction. Here's a comparison of SQLite and SQLAlchemy:\n",
    "\n",
    "# SQLite:\n",
    "\n",
    "# SQLite is a self-contained, serverless, and file-based relational database management system.\n",
    "# It is embedded within applications, allowing them to store and manage data in a local database file.\n",
    "# SQLite databases are lightweight, easy to use, and do not require a separate database server.\n",
    "# It provides a simple SQL-based interface for interacting with the database.\n",
    "# SQLite supports most standard SQL features and is widely used in embedded systems, mobile applications, and smaller-scale projects.\n",
    "# SQLite is efficient for single-user and small-scale applications but may not scale well for high-concurrency or large-scale scenarios.\n",
    "# It does not provide built-in support for advanced features like connection pooling, ORM, or database migration.\n",
    "# SQLAlchemy:\n",
    "\n",
    "# SQLAlchemy is an open-source SQL toolkit and Object-Relational Mapping (ORM) library for Python.\n",
    "# It provides a high-level and abstracted interface for working with databases, supporting multiple database backends, including SQLite, PostgreSQL, MySQL, and others.\n",
    "# SQLAlchemy allows developers to work with databases using Python objects and provides a powerful ORM for mapping database tables to Python classes.\n",
    "# It offers a SQL Expression Language for constructing SQL queries and expressions in a Pythonic way.\n",
    "# SQLAlchemy includes features like connection pooling, transaction management, database schema generation, and migration tools.\n",
    "# It supports advanced database features, such as composite keys, relationships, lazy loading, and eager loading.\n",
    "# SQLAlchemy is well-suited for complex applications that require a flexible and extensible database access layer, and it can scale well to handle large-scale and high-concurrency scenarios.\n",
    "# In summary, SQLite is a lightweight and file-based database management system, whereas SQLAlchemy is a comprehensive SQL toolkit and ORM library that provides a higher-level abstraction for working with databases. \n",
    "# SQLAlchemy supports multiple database backends, including SQLite, and offers additional features and flexibility compared to the basic SQL capabilities of SQLite."
   ]
  },
  {
   "cell_type": "code",
   "execution_count": null,
   "metadata": {},
   "outputs": [],
   "source": []
  }
 ],
 "metadata": {
  "kernelspec": {
   "display_name": "Python 3",
   "language": "python",
   "name": "python3"
  },
  "language_info": {
   "codemirror_mode": {
    "name": "ipython",
    "version": 3
   },
   "file_extension": ".py",
   "mimetype": "text/x-python",
   "name": "python",
   "nbconvert_exporter": "python",
   "pygments_lexer": "ipython3",
   "version": "3.10.12"
  },
  "orig_nbformat": 4
 },
 "nbformat": 4,
 "nbformat_minor": 2
}
